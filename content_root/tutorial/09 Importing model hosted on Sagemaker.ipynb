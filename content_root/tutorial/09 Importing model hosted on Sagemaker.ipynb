{
 "cells": [
  {
   "cell_type": "markdown",
   "metadata": {},
   "source": [
    "## Initialize Fiddler Client"
   ]
  },
  {
   "cell_type": "code",
   "execution_count": null,
   "metadata": {},
   "outputs": [],
   "source": [
    "import fiddler as fdl\n",
    "client = fdl.FiddlerApi()"
   ]
  },
  {
   "cell_type": "markdown",
   "metadata": {},
   "source": [
    "## Upload dataset"
   ]
  },
  {
   "cell_type": "code",
   "execution_count": null,
   "metadata": {},
   "outputs": [],
   "source": [
    "import pandas as pd\n",
    "\n",
    "features = ['loan_amnt', 'int_rate', 'annual_inc', 'dti', 'fico_range_low', 'total_acc']\n",
    "target = 'loan_status'\n",
    "dataset_id = 'p2p_loans'\n",
    "\n",
    "if dataset_id in client.list_datasets():\n",
    "    df = client.get_dataset(dataset_id)['test']\n",
    "    df_schema = client.get_dataset_info(dataset_id)\n",
    "else:\n",
    "    df = pd.read_csv('/app/fiddler_samples/samples/datasets/p2p_loans/p2p_loans.csv')\n",
    "    df_schema = fdl.DatasetInfo.from_dataframe(df, max_inferred_cardinality=1000)\n",
    "    upload_result = client.upload_dataset(\n",
    "        dataset={'test': df}, \n",
    "        dataset_id=dataset_id,\n",
    "        info=df_schema)\n",
    "    \n",
    "df_input = df[features]"
   ]
  },
  {
   "cell_type": "markdown",
   "metadata": {},
   "source": [
    "## Generate and write model info"
   ]
  },
  {
   "cell_type": "code",
   "execution_count": null,
   "metadata": {},
   "outputs": [],
   "source": [
    "import pathlib\n",
    "import shutil\n",
    "import pickle\n",
    "import yaml\n",
    "\n",
    "project_id = 'tutorial'\n",
    "model_id = 'sagemaker_hosted_model'\n",
    "\n",
    "model_info = fdl.ModelInfo.from_dataset_info(\n",
    "    dataset_info=client.get_dataset_info(dataset_id),\n",
    "    target=target, \n",
    "    features=features,\n",
    "    display_name='SagemakerHostedModel',\n",
    "    description='this model is hosted on Sagemaker.'\n",
    ")\n",
    "\n",
    "# create temp dir\n",
    "model_dir = pathlib.Path(model_id)\n",
    "shutil.rmtree(model_dir, ignore_errors=True)\n",
    "model_dir.mkdir()\n",
    "\n",
    "# save model schema\n",
    "with open(model_dir / 'model.yaml', 'w') as yaml_file:\n",
    "    yaml.dump({'model': model_info.to_dict()}, yaml_file)"
   ]
  },
  {
   "cell_type": "markdown",
   "metadata": {},
   "source": [
    "## Write package.py"
   ]
  },
  {
   "cell_type": "code",
   "execution_count": null,
   "metadata": {},
   "outputs": [],
   "source": [
    "%%writefile sagemaker_hosted_model/package.py\n",
    "\n",
    "import pickle\n",
    "from pathlib import Path\n",
    "import pandas as pd\n",
    "import boto3\n",
    "import random\n",
    "from io import StringIO\n",
    "import csv\n",
    "import numpy as np\n",
    "\n",
    "\n",
    "PACKAGE_PATH = Path(__file__).parent\n",
    "\n",
    "class SklearnModelPackage:\n",
    "    is_classifier = False\n",
    "    output_columns = ['probability_Fully Paid']\n",
    "    endpoint_name = 'sagemaker-xgboost-lending'\n",
    "    content_type = \"text/csv\"                                        \n",
    "    accept = \"application/json\"\n",
    "    region = 'us-west-2'\n",
    "    aws_access_key_id ='...'\n",
    "    aws_secret_access_key='...'\n",
    "\n",
    "    def __init__(self):\n",
    "        self.client = boto3.client('sagemaker-runtime', region_name=self.region, \n",
    "                      aws_access_key_id=self.aws_access_key_id, \n",
    "                      aws_secret_access_key=self.aws_secret_access_key)\n",
    "        \n",
    "    def predict(self, input_df):\n",
    "        payload = input_df.to_csv(index=False, header=False)\n",
    "        return self.call_sagemaker(payload)\n",
    "\n",
    "    def call_sagemaker(self, payload):\n",
    "        custom_attributes = f'fiddler-sagemaker-id-{random.randint(0, 10000000)}'\n",
    "        response = self.client.invoke_endpoint(\n",
    "            EndpointName=self.endpoint_name, \n",
    "            CustomAttributes=custom_attributes, \n",
    "            ContentType=self.content_type,\n",
    "            Accept=self.accept,\n",
    "            Body=payload\n",
    "        )\n",
    "        csv_str = ''\n",
    "        for row in response['Body']:\n",
    "            csv_str += row.decode('utf-8')\n",
    "            \n",
    "        pd_array = pd.array(csv_str.split(','))\n",
    "        pd_array = pd.to_numeric(pd_array, errors='coerce')\n",
    "        return pd.DataFrame(pd_array, columns=self.output_columns)\n",
    "    \n",
    "def get_model():\n",
    "    return SklearnModelPackage()\n",
    "\n"
   ]
  },
  {
   "cell_type": "markdown",
   "metadata": {},
   "source": [
    "## Upload sagemaker proxy model"
   ]
  },
  {
   "cell_type": "code",
   "execution_count": null,
   "metadata": {},
   "outputs": [],
   "source": [
    "client.delete_model(project_id, model_id)\n",
    "client.upload_model_package(model_dir, project_id, model_id)"
   ]
  },
  {
   "cell_type": "markdown",
   "metadata": {},
   "source": [
    "## Test model"
   ]
  },
  {
   "cell_type": "code",
   "execution_count": null,
   "metadata": {},
   "outputs": [],
   "source": [
    "prediction_input = df_input[0: 10]\n",
    "result = client.run_model(project_id, model_id, prediction_input)\n",
    "result"
   ]
  }
 ],
 "metadata": {
  "kernelspec": {
   "display_name": "Python 3",
   "language": "python",
   "name": "python3"
  },
  "language_info": {
   "codemirror_mode": {
    "name": "ipython",
    "version": 3
   },
   "file_extension": ".py",
   "mimetype": "text/x-python",
   "name": "python",
   "nbconvert_exporter": "python",
   "pygments_lexer": "ipython3",
   "version": "3.7.3"
  }
 },
 "nbformat": 4,
 "nbformat_minor": 2
}